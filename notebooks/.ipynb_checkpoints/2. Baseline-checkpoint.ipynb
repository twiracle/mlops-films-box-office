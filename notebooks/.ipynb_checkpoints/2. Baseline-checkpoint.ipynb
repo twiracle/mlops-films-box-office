{
 "cells": [
  {
   "cell_type": "code",
   "execution_count": 1,
   "id": "3018081a",
   "metadata": {},
   "outputs": [],
   "source": [
    "import numpy as np\n",
    "import pandas as pd\n",
    "\n",
    "from sklearn.model_selection import train_test_split\n",
    "from sklearn.metrics import mean_absolute_error, mean_squared_error, r2_score, mean_squared_log_error\n",
    "from sklearn.ensemble import RandomForestRegressor\n",
    "from catboost import CatBoostRegressor\n",
    "from lightgbm import LGBMRegressor\n",
    "from lightgbm import early_stopping\n",
    "\n",
    "import yaml\n",
    "from typing import Callable\n",
    "from tqdm import tqdm\n",
    "import warnings\n",
    "\n",
    "warnings.filterwarnings(\"ignore\")"
   ]
  },
  {
   "cell_type": "markdown",
   "id": "89aadd71",
   "metadata": {},
   "source": [
    "# Описание и импорт данных"
   ]
  },
  {
   "cell_type": "markdown",
   "id": "2b552ec9",
   "metadata": {},
   "source": [
    "Задачей данного проекта является предсказание кассовых сборов фильмов.\n",
    "Данные были собраны с сайта Кинопоиск с использованием собственного парсера. Были выбраны данные о фильмах США за все годы с первых 1000 страниц сайта (на следующих страницах информации о кассовых сборах практически не было)."
   ]
  },
  {
   "cell_type": "markdown",
   "id": "81dfb915",
   "metadata": {},
   "source": [
    "Проект был разделен на несколько частей, каждая из которых представляет собой отдельный Jupyter ноутбук:\n",
    "1. EDA – исследовательский анализ данных, который включает в себя первичный анализ данных, обработку пропусков, преобразование признаков выявление закономерностей и взаимосвязей в данных, формулировка гипотез и визуализация наиболее важных признаков (данный EDA является упрощенной версией исследовательского проекта - ссылка)\n",
    "2. **Baseline – обучение baseline модели и оценка ее метрик**\n",
    "3. Tuning – подбор гиперпараметров модели для улучшения качества предсказаний и оценка полученных метрик"
   ]
  },
  {
   "cell_type": "markdown",
   "id": "1f14c258",
   "metadata": {},
   "source": [
    "**Описания полей:**\n",
    "- rating - пользовательский рейтинг на Кинопоиске\n",
    "- production_year - год производства\n",
    "- director - режиссер\n",
    "- age_rating - возрастной рейтинг\n",
    "- duration - продолжительность в минутах\n",
    "- budget - бюджет фильма\n",
    "- **target - кассовые сборы фильма**\n",
    "- target_log - прологарифмированное значение target (распределение более близкое к нормальному)\n",
    "- main_genre - основной жанр фильма\n",
    "- month - месяц выпуска фильма\n",
    "- director_film_count - количество фильмов, которые снял режиссер\n",
    "- actors_fame - слава актеров, которые снимались в фильме (слава = количество фильмов, в которых снимались актеры)"
   ]
  },
  {
   "cell_type": "code",
   "execution_count": 2,
   "id": "0c9d5a5d",
   "metadata": {},
   "outputs": [],
   "source": [
    "config_path = '../config/config.yaml'\n",
    "config = yaml.load(open(config_path, encoding='utf-8'), Loader=yaml.FullLoader)\n",
    "\n",
    "config_train = config['train']\n",
    "RAND = config_train['random_state']"
   ]
  },
  {
   "cell_type": "code",
   "execution_count": 15,
   "id": "0a144463",
   "metadata": {},
   "outputs": [],
   "source": [
    "df_train = pd.read_csv(config_train['train_data_path'])\n",
    "df_val = pd.read_csv(config_train['val_data_path'])\n",
    "df_test = pd.read_csv(config_train['test_data_path'])"
   ]
  },
  {
   "cell_type": "code",
   "execution_count": 42,
   "id": "62a6441e",
   "metadata": {},
   "outputs": [
    {
     "data": {
      "text/html": [
       "<div>\n",
       "<style scoped>\n",
       "    .dataframe tbody tr th:only-of-type {\n",
       "        vertical-align: middle;\n",
       "    }\n",
       "\n",
       "    .dataframe tbody tr th {\n",
       "        vertical-align: top;\n",
       "    }\n",
       "\n",
       "    .dataframe thead th {\n",
       "        text-align: right;\n",
       "    }\n",
       "</style>\n",
       "<table border=\"1\" class=\"dataframe\">\n",
       "  <thead>\n",
       "    <tr style=\"text-align: right;\">\n",
       "      <th></th>\n",
       "      <th>rating</th>\n",
       "      <th>production_year</th>\n",
       "      <th>director</th>\n",
       "      <th>age_rating</th>\n",
       "      <th>duration</th>\n",
       "      <th>budget</th>\n",
       "      <th>target_log</th>\n",
       "      <th>main_genre</th>\n",
       "      <th>month</th>\n",
       "      <th>director_film_count</th>\n",
       "      <th>actors_fame</th>\n",
       "    </tr>\n",
       "  </thead>\n",
       "  <tbody>\n",
       "    <tr>\n",
       "      <th>0</th>\n",
       "      <td>6.300000</td>\n",
       "      <td>2015</td>\n",
       "      <td>Джон Уоттс</td>\n",
       "      <td>18+</td>\n",
       "      <td>88</td>\n",
       "      <td>8.000000e+05</td>\n",
       "      <td>11.875191</td>\n",
       "      <td>триллер</td>\n",
       "      <td>январь</td>\n",
       "      <td>5</td>\n",
       "      <td>40</td>\n",
       "    </tr>\n",
       "    <tr>\n",
       "      <th>1</th>\n",
       "      <td>7.066667</td>\n",
       "      <td>2004</td>\n",
       "      <td>Other</td>\n",
       "      <td>undefined</td>\n",
       "      <td>95</td>\n",
       "      <td>3.113265e+06</td>\n",
       "      <td>10.605173</td>\n",
       "      <td>документальный</td>\n",
       "      <td>сентябрь</td>\n",
       "      <td>1</td>\n",
       "      <td>24</td>\n",
       "    </tr>\n",
       "    <tr>\n",
       "      <th>2</th>\n",
       "      <td>7.700000</td>\n",
       "      <td>1998</td>\n",
       "      <td>Энди Теннант</td>\n",
       "      <td>0+</td>\n",
       "      <td>121</td>\n",
       "      <td>2.600000e+07</td>\n",
       "      <td>18.400536</td>\n",
       "      <td>драма</td>\n",
       "      <td>июль</td>\n",
       "      <td>10</td>\n",
       "      <td>46</td>\n",
       "    </tr>\n",
       "    <tr>\n",
       "      <th>3</th>\n",
       "      <td>6.700000</td>\n",
       "      <td>2002</td>\n",
       "      <td>Тодд Филлипс</td>\n",
       "      <td>16+</td>\n",
       "      <td>88</td>\n",
       "      <td>2.400000e+07</td>\n",
       "      <td>18.280746</td>\n",
       "      <td>комедия</td>\n",
       "      <td>февраль</td>\n",
       "      <td>11</td>\n",
       "      <td>81</td>\n",
       "    </tr>\n",
       "    <tr>\n",
       "      <th>4</th>\n",
       "      <td>6.696041</td>\n",
       "      <td>1999</td>\n",
       "      <td>Other</td>\n",
       "      <td>undefined</td>\n",
       "      <td>100</td>\n",
       "      <td>1.533853e+07</td>\n",
       "      <td>10.203555</td>\n",
       "      <td>драма</td>\n",
       "      <td>апрель</td>\n",
       "      <td>1</td>\n",
       "      <td>41</td>\n",
       "    </tr>\n",
       "  </tbody>\n",
       "</table>\n",
       "</div>"
      ],
      "text/plain": [
       "     rating  production_year      director age_rating  duration        budget  \\\n",
       "0  6.300000             2015    Джон Уоттс        18+        88  8.000000e+05   \n",
       "1  7.066667             2004         Other  undefined        95  3.113265e+06   \n",
       "2  7.700000             1998  Энди Теннант         0+       121  2.600000e+07   \n",
       "3  6.700000             2002  Тодд Филлипс        16+        88  2.400000e+07   \n",
       "4  6.696041             1999         Other  undefined       100  1.533853e+07   \n",
       "\n",
       "   target_log      main_genre     month  director_film_count  actors_fame  \n",
       "0   11.875191         триллер    январь                    5           40  \n",
       "1   10.605173  документальный  сентябрь                    1           24  \n",
       "2   18.400536           драма      июль                   10           46  \n",
       "3   18.280746         комедия   февраль                   11           81  \n",
       "4   10.203555           драма    апрель                    1           41  "
      ]
     },
     "execution_count": 42,
     "metadata": {},
     "output_type": "execute_result"
    }
   ],
   "source": [
    "df_train.head()"
   ]
  },
  {
   "cell_type": "markdown",
   "id": "5bebc575",
   "metadata": {},
   "source": [
    "# Подготовка данных"
   ]
  },
  {
   "cell_type": "code",
   "execution_count": 16,
   "id": "81f6b201",
   "metadata": {},
   "outputs": [
    {
     "name": "stdout",
     "output_type": "stream",
     "text": [
      "<class 'pandas.core.frame.DataFrame'>\n",
      "RangeIndex: 7785 entries, 0 to 7784\n",
      "Data columns (total 11 columns):\n",
      " #   Column               Non-Null Count  Dtype  \n",
      "---  ------               --------------  -----  \n",
      " 0   rating               7785 non-null   float64\n",
      " 1   production_year      7785 non-null   int64  \n",
      " 2   director             7785 non-null   object \n",
      " 3   age_rating           7785 non-null   object \n",
      " 4   duration             7785 non-null   int64  \n",
      " 5   budget               7785 non-null   float64\n",
      " 6   target_log           7785 non-null   float64\n",
      " 7   main_genre           7785 non-null   object \n",
      " 8   month                7785 non-null   object \n",
      " 9   director_film_count  7785 non-null   int64  \n",
      " 10  actors_fame          7785 non-null   int64  \n",
      "dtypes: float64(3), int64(4), object(4)\n",
      "memory usage: 669.2+ KB\n"
     ]
    }
   ],
   "source": [
    "df_train.info()"
   ]
  },
  {
   "cell_type": "code",
   "execution_count": 17,
   "id": "9251cee3",
   "metadata": {},
   "outputs": [
    {
     "data": {
      "text/html": [
       "<div>\n",
       "<style scoped>\n",
       "    .dataframe tbody tr th:only-of-type {\n",
       "        vertical-align: middle;\n",
       "    }\n",
       "\n",
       "    .dataframe tbody tr th {\n",
       "        vertical-align: top;\n",
       "    }\n",
       "\n",
       "    .dataframe thead th {\n",
       "        text-align: right;\n",
       "    }\n",
       "</style>\n",
       "<table border=\"1\" class=\"dataframe\">\n",
       "  <thead>\n",
       "    <tr style=\"text-align: right;\">\n",
       "      <th></th>\n",
       "      <th>rating</th>\n",
       "      <th>production_year</th>\n",
       "      <th>duration</th>\n",
       "      <th>budget</th>\n",
       "      <th>target_log</th>\n",
       "      <th>director_film_count</th>\n",
       "      <th>actors_fame</th>\n",
       "    </tr>\n",
       "  </thead>\n",
       "  <tbody>\n",
       "    <tr>\n",
       "      <th>count</th>\n",
       "      <td>7785.000000</td>\n",
       "      <td>7785.000000</td>\n",
       "      <td>7785.000000</td>\n",
       "      <td>7.785000e+03</td>\n",
       "      <td>7785.000000</td>\n",
       "      <td>7785.000000</td>\n",
       "      <td>7785.000000</td>\n",
       "    </tr>\n",
       "    <tr>\n",
       "      <th>mean</th>\n",
       "      <td>6.482979</td>\n",
       "      <td>2000.653051</td>\n",
       "      <td>102.017213</td>\n",
       "      <td>2.584692e+07</td>\n",
       "      <td>14.742531</td>\n",
       "      <td>5.031985</td>\n",
       "      <td>30.165832</td>\n",
       "    </tr>\n",
       "    <tr>\n",
       "      <th>std</th>\n",
       "      <td>0.849815</td>\n",
       "      <td>18.315396</td>\n",
       "      <td>17.948037</td>\n",
       "      <td>3.349345e+07</td>\n",
       "      <td>3.244874</td>\n",
       "      <td>5.849112</td>\n",
       "      <td>25.954593</td>\n",
       "    </tr>\n",
       "    <tr>\n",
       "      <th>min</th>\n",
       "      <td>1.400000</td>\n",
       "      <td>1913.000000</td>\n",
       "      <td>0.000000</td>\n",
       "      <td>2.200000e+02</td>\n",
       "      <td>3.401197</td>\n",
       "      <td>1.000000</td>\n",
       "      <td>1.000000</td>\n",
       "    </tr>\n",
       "    <tr>\n",
       "      <th>25%</th>\n",
       "      <td>6.000000</td>\n",
       "      <td>1992.000000</td>\n",
       "      <td>91.000000</td>\n",
       "      <td>6.000000e+06</td>\n",
       "      <td>12.302282</td>\n",
       "      <td>1.000000</td>\n",
       "      <td>8.000000</td>\n",
       "    </tr>\n",
       "    <tr>\n",
       "      <th>50%</th>\n",
       "      <td>6.600000</td>\n",
       "      <td>2005.000000</td>\n",
       "      <td>99.000000</td>\n",
       "      <td>1.533853e+07</td>\n",
       "      <td>15.273428</td>\n",
       "      <td>3.000000</td>\n",
       "      <td>23.000000</td>\n",
       "    </tr>\n",
       "    <tr>\n",
       "      <th>75%</th>\n",
       "      <td>7.066667</td>\n",
       "      <td>2014.000000</td>\n",
       "      <td>110.000000</td>\n",
       "      <td>2.780000e+07</td>\n",
       "      <td>17.295954</td>\n",
       "      <td>7.000000</td>\n",
       "      <td>46.000000</td>\n",
       "    </tr>\n",
       "    <tr>\n",
       "      <th>max</th>\n",
       "      <td>8.900000</td>\n",
       "      <td>2024.000000</td>\n",
       "      <td>319.000000</td>\n",
       "      <td>3.785000e+08</td>\n",
       "      <td>21.796118</td>\n",
       "      <td>42.000000</td>\n",
       "      <td>175.000000</td>\n",
       "    </tr>\n",
       "  </tbody>\n",
       "</table>\n",
       "</div>"
      ],
      "text/plain": [
       "            rating  production_year     duration        budget   target_log  \\\n",
       "count  7785.000000      7785.000000  7785.000000  7.785000e+03  7785.000000   \n",
       "mean      6.482979      2000.653051   102.017213  2.584692e+07    14.742531   \n",
       "std       0.849815        18.315396    17.948037  3.349345e+07     3.244874   \n",
       "min       1.400000      1913.000000     0.000000  2.200000e+02     3.401197   \n",
       "25%       6.000000      1992.000000    91.000000  6.000000e+06    12.302282   \n",
       "50%       6.600000      2005.000000    99.000000  1.533853e+07    15.273428   \n",
       "75%       7.066667      2014.000000   110.000000  2.780000e+07    17.295954   \n",
       "max       8.900000      2024.000000   319.000000  3.785000e+08    21.796118   \n",
       "\n",
       "       director_film_count  actors_fame  \n",
       "count          7785.000000  7785.000000  \n",
       "mean              5.031985    30.165832  \n",
       "std               5.849112    25.954593  \n",
       "min               1.000000     1.000000  \n",
       "25%               1.000000     8.000000  \n",
       "50%               3.000000    23.000000  \n",
       "75%               7.000000    46.000000  \n",
       "max              42.000000   175.000000  "
      ]
     },
     "execution_count": 17,
     "metadata": {},
     "output_type": "execute_result"
    }
   ],
   "source": [
    "df_train.describe()"
   ]
  },
  {
   "cell_type": "code",
   "execution_count": 19,
   "id": "62784745",
   "metadata": {},
   "outputs": [
    {
     "data": {
      "text/html": [
       "<div>\n",
       "<style scoped>\n",
       "    .dataframe tbody tr th:only-of-type {\n",
       "        vertical-align: middle;\n",
       "    }\n",
       "\n",
       "    .dataframe tbody tr th {\n",
       "        vertical-align: top;\n",
       "    }\n",
       "\n",
       "    .dataframe thead th {\n",
       "        text-align: right;\n",
       "    }\n",
       "</style>\n",
       "<table border=\"1\" class=\"dataframe\">\n",
       "  <thead>\n",
       "    <tr style=\"text-align: right;\">\n",
       "      <th></th>\n",
       "      <th>director</th>\n",
       "      <th>age_rating</th>\n",
       "      <th>main_genre</th>\n",
       "      <th>month</th>\n",
       "    </tr>\n",
       "  </thead>\n",
       "  <tbody>\n",
       "    <tr>\n",
       "      <th>count</th>\n",
       "      <td>7785</td>\n",
       "      <td>7785</td>\n",
       "      <td>7785</td>\n",
       "      <td>7785</td>\n",
       "    </tr>\n",
       "    <tr>\n",
       "      <th>unique</th>\n",
       "      <td>501</td>\n",
       "      <td>6</td>\n",
       "      <td>25</td>\n",
       "      <td>12</td>\n",
       "    </tr>\n",
       "    <tr>\n",
       "      <th>top</th>\n",
       "      <td>Other</td>\n",
       "      <td>18+</td>\n",
       "      <td>драма</td>\n",
       "      <td>сентябрь</td>\n",
       "    </tr>\n",
       "    <tr>\n",
       "      <th>freq</th>\n",
       "      <td>4963</td>\n",
       "      <td>2667</td>\n",
       "      <td>2433</td>\n",
       "      <td>1084</td>\n",
       "    </tr>\n",
       "  </tbody>\n",
       "</table>\n",
       "</div>"
      ],
      "text/plain": [
       "       director age_rating main_genre     month\n",
       "count      7785       7785       7785      7785\n",
       "unique      501          6         25        12\n",
       "top       Other        18+      драма  сентябрь\n",
       "freq       4963       2667       2433      1084"
      ]
     },
     "execution_count": 19,
     "metadata": {},
     "output_type": "execute_result"
    }
   ],
   "source": [
    "df_train.describe(include='object')"
   ]
  },
  {
   "cell_type": "markdown",
   "id": "d651dcd1",
   "metadata": {},
   "source": [
    "- как видим, пропущенных значений в данных нет (они были обработаны на предыдущем этапе) и у всех переменных правильные типы данных\n",
    "- так как в данном проекте будет использоваться CatBoost и LightGBM, то все признаки типа object нужно перевести в тип category, что избавит нас от бинаризации категориальных признаков"
   ]
  },
  {
   "cell_type": "markdown",
   "id": "cb062775",
   "metadata": {},
   "source": [
    "- преобразуем все столбцы типа object в тип category"
   ]
  },
  {
   "cell_type": "code",
   "execution_count": 20,
   "id": "1805d14f",
   "metadata": {},
   "outputs": [],
   "source": [
    "def transform_to_category(df: pd.DataFrame, cat_cols: list) -> pd.DataFrame:\n",
    "    '''\n",
    "    Преобразует столбцы из типа object в тип category\n",
    "    Parameters\n",
    "    ------------\n",
    "    df: pd.DataFrame\n",
    "        дата фрейм, в котором нужно преобразовать тип стобцов\n",
    "    cat_cols: list\n",
    "        список категориальных столбцов\n",
    "    \n",
    "    Returns\n",
    "    -----------\n",
    "    дата фрейм с преобразованными столбцами\n",
    "    '''\n",
    "    df[cat_cols] = df[cat_cols].astype('category')\n",
    "    return df"
   ]
  },
  {
   "cell_type": "code",
   "execution_count": 21,
   "id": "c448910d",
   "metadata": {},
   "outputs": [],
   "source": [
    "df_train = transform_to_category(df_train, config_train['category_cols'])\n",
    "df_val = transform_to_category(df_val, config_train['category_cols'])\n",
    "df_test = transform_to_category(df_test, config_train['category_cols'])"
   ]
  },
  {
   "cell_type": "markdown",
   "id": "2f59dc84",
   "metadata": {},
   "source": [
    "- разделим данные на X и y"
   ]
  },
  {
   "cell_type": "code",
   "execution_count": 25,
   "id": "b5315788",
   "metadata": {},
   "outputs": [],
   "source": [
    "def split_to_x_y(df: pd.DataFrame, target_col: str) -> tuple:\n",
    "    '''\n",
    "    Делит дата фрейм на X и y\n",
    "    \n",
    "    Parameters\n",
    "    -----------\n",
    "    df: pd.DataFrame\n",
    "        дата фрейм с данными\n",
    "    target_col: str\n",
    "        название таргет переменной\n",
    "        \n",
    "    Returns\n",
    "    ----------\n",
    "    разделенный дата фрейм на X и y\n",
    "    '''\n",
    "    X = df.drop([target_col], axis=1)\n",
    "    y = df[target_col]\n",
    "    return X, y"
   ]
  },
  {
   "cell_type": "code",
   "execution_count": 29,
   "id": "04e9c597",
   "metadata": {},
   "outputs": [],
   "source": [
    "X_train, y_train = split_to_x_y(df_train, config_train['target_column'])\n",
    "X_val, y_val = split_to_x_y(df_val, config_train['target_column'])\n",
    "X_test, y_test = split_to_x_y(df_test, config_train['target_column'])"
   ]
  },
  {
   "cell_type": "markdown",
   "id": "98592dce",
   "metadata": {},
   "source": [
    "# Baseline модель"
   ]
  },
  {
   "cell_type": "markdown",
   "id": "db3e0025",
   "metadata": {},
   "source": [
    "В данном проекте в качестве модели было решено использовать **CatBoost** и **LightGBM**, а потом сравнить их результаты на бейзлайне и выбрать лучшую, по таким причинам:\n",
    "- отлично подходят для анализа табличных данных\n",
    "- быстро обучаются и имеют высокую точность предсказаний\n",
    "- умеют обрабатывать категориальные признаки без необходимости их кодирования, что упрощает работу с большим количеством уникальных значений\n",
    "- хорошо работают с разреженными данными\n",
    "\n",
    "В качестве метрики для оценки была выбрана **MAE**, так как она более устойчива к выбросам"
   ]
  },
  {
   "cell_type": "code",
   "execution_count": 30,
   "id": "76982eb5",
   "metadata": {},
   "outputs": [],
   "source": [
    "# создание моделей\n",
    "cb_baseline = CatBoostRegressor(random_state=RAND,\n",
    "                                eval_metric=\"MAE\", \n",
    "                                objective='MAE',\n",
    "                                cat_features=config_train['category_cols'])\n",
    "\n",
    "lgb_baseline = LGBMRegressor(objective='mae', random_state=RAND, verbosity=-1)"
   ]
  },
  {
   "cell_type": "code",
   "execution_count": 31,
   "id": "d15a4bca",
   "metadata": {},
   "outputs": [
    {
     "name": "stdout",
     "output_type": "stream",
     "text": [
      "Training until validation scores don't improve for 100 rounds\n",
      "Did not meet early stopping. Best iteration is:\n",
      "[100]\tvalid_0's l1: 1.4146\n"
     ]
    }
   ],
   "source": [
    "# создание набора для валидации\n",
    "eval_set = [(X_val, y_val)]\n",
    "\n",
    "# обучение моделей\n",
    "cb_baseline.fit(X_train,\n",
    "                y_train,\n",
    "                eval_set=eval_set,\n",
    "                verbose=False,\n",
    "                early_stopping_rounds=100)\n",
    "\n",
    "lgb_baseline.fit(X_train,\n",
    "                 y_train,\n",
    "                 eval_metric=\"MAE\",\n",
    "                 categorical_feature=config_train['category_cols'],\n",
    "                 eval_set=eval_set,\n",
    "                 callbacks=[early_stopping(stopping_rounds=100)]);"
   ]
  },
  {
   "cell_type": "code",
   "execution_count": 32,
   "id": "5d4a15ad",
   "metadata": {},
   "outputs": [],
   "source": [
    "# получение предсказаний\n",
    "y_pred_cb = cb_baseline.predict(X_test)\n",
    "y_pred_lgb = lgb_baseline.predict(X_test)"
   ]
  },
  {
   "cell_type": "markdown",
   "id": "d4c578ba",
   "metadata": {},
   "source": [
    "# Метрики"
   ]
  },
  {
   "cell_type": "code",
   "execution_count": 33,
   "id": "fe55ef9e",
   "metadata": {
    "code_folding": []
   },
   "outputs": [],
   "source": [
    "def r2_adjusted(y_true: np.ndarray, y_pred: np.ndarray,\n",
    "                X_test: np.ndarray) -> float:\n",
    "    '''\n",
    "    Вычисление коэффициента детерминации для множественной регрессии\n",
    "    \n",
    "    Parameters\n",
    "    -----------\n",
    "    y_test: np.ndarray\n",
    "        тестовые значения y\n",
    "    y_pred: np.ndarray\n",
    "        предсказания модели\n",
    "    X_test: np.ndarray\n",
    "        тестовые значения X\n",
    "    \n",
    "    Returns\n",
    "    ----------\n",
    "    Значение метрики\n",
    "    '''\n",
    "    n_objects = len(y_true)\n",
    "    n_features = X_test.shape[1]\n",
    "    r2 = r2_score(y_true, y_pred)\n",
    "    return 1 - (1 - r2) * (n_objects - 1) / (n_objects - n_features - 1)\n",
    "\n",
    "\n",
    "def wape(y_true: np.ndarray, y_pred: np.ndarray) -> float:\n",
    "    '''\n",
    "    Вычисление взвешенной абсолютной процентной ошибки\n",
    "    \n",
    "    Parameters\n",
    "    -----------\n",
    "    y_test: np.ndarray\n",
    "        тестовые значения y\n",
    "    y_pred: np.ndarray\n",
    "        предсказания модели\n",
    "    \n",
    "    Returns\n",
    "    ----------\n",
    "    Значение метрики\n",
    "    '''\n",
    "    return np.sum(np.abs(y_pred - y_true)) * 100 / np.sum(y_true)\n",
    "\n",
    "\n",
    "def rmsle(y_true: np.ndarray, y_pred: np.ndarray) -> np.float64:\n",
    "    '''\n",
    "    Вычисление среднеквадратической логарифмической ошибки\n",
    "    \n",
    "    Parameters\n",
    "    -----------\n",
    "    y_test: np.ndarray\n",
    "        тестовые значения y\n",
    "    y_pred: np.ndarray\n",
    "        предсказания модели \n",
    "        \n",
    "    Returns\n",
    "    ----------\n",
    "    Значение метрики\n",
    "    '''\n",
    "    try:\n",
    "        return np.sqrt(mean_squared_log_error(y_true, y_pred))\n",
    "    except:\n",
    "        return None\n",
    "\n",
    "\n",
    "def get_metrics(y_test: np.ndarray, y_pred: np.ndarray, X_test: np.ndarray,\n",
    "                name: str) -> pd.DataFrame:\n",
    "    '''\n",
    "    Создание таблицы с основными метриками для модели\n",
    "    \n",
    "    Parameters\n",
    "    ----------\n",
    "    y_test: np.ndarray\n",
    "        тестовые значения y\n",
    "    y_pred: np.ndarray\n",
    "        предсказания модели\n",
    "    X_test: np.ndarray\n",
    "        тестовые значения X\n",
    "    Returns\n",
    "    ----------\n",
    "    датафрейм с метриками\n",
    "    '''\n",
    "    metrics = pd.DataFrame()\n",
    "\n",
    "    metrics['model'] = [name]\n",
    "    metrics['MSE'] = mean_squared_error(y_test, y_pred)\n",
    "    metrics['RMSE'] = np.sqrt(mean_squared_error(y_test, y_pred))\n",
    "    metrics['RMSLE'] = rmsle(y_test, y_pred)\n",
    "    metrics['MAE'] = mean_absolute_error(y_test, y_pred)\n",
    "    metrics['R2 adjusted'] = r2_adjusted(y_test, y_pred, X_test)\n",
    "    metrics['WAPE_%'] = wape(y_test, y_pred)\n",
    "\n",
    "    return metrics"
   ]
  },
  {
   "cell_type": "code",
   "execution_count": 34,
   "id": "c40eecbf",
   "metadata": {},
   "outputs": [],
   "source": [
    "# создание датафрейма с метриками + потенционирование\n",
    "metrics = pd.concat([\n",
    "    get_metrics(np.exp(y_train), np.exp(cb_baseline.predict(X_train)), X_train,\n",
    "                'CatBoostBaselineTrain'),\n",
    "    get_metrics(np.exp(y_test), np.exp(y_pred_cb), X_test,\n",
    "                'CatBoostBaselineTest'),\n",
    "    get_metrics(np.exp(y_train), np.exp(lgb_baseline.predict(X_train)),\n",
    "                X_train, 'LGBMBaselineTrain'),\n",
    "    get_metrics(np.exp(y_test), np.exp(y_pred_lgb), X_test, 'LGBMBaselineTest')\n",
    "])"
   ]
  },
  {
   "cell_type": "code",
   "execution_count": 35,
   "id": "90b77041",
   "metadata": {},
   "outputs": [
    {
     "data": {
      "text/html": [
       "<style type=\"text/css\">\n",
       "#T_a143f_row0_col4, #T_a143f_row1_col3, #T_a143f_row1_col5, #T_a143f_row2_col0, #T_a143f_row2_col1, #T_a143f_row3_col2 {\n",
       "  background-color: lightpink;\n",
       "}\n",
       "#T_a143f_row1_col4, #T_a143f_row2_col2, #T_a143f_row2_col3, #T_a143f_row2_col5, #T_a143f_row3_col0, #T_a143f_row3_col1 {\n",
       "  background-color: lightblue;\n",
       "}\n",
       "</style>\n",
       "<table id=\"T_a143f\">\n",
       "  <thead>\n",
       "    <tr>\n",
       "      <th class=\"blank level0\" >&nbsp;</th>\n",
       "      <th id=\"T_a143f_level0_col0\" class=\"col_heading level0 col0\" >MSE</th>\n",
       "      <th id=\"T_a143f_level0_col1\" class=\"col_heading level0 col1\" >RMSE</th>\n",
       "      <th id=\"T_a143f_level0_col2\" class=\"col_heading level0 col2\" >RMSLE</th>\n",
       "      <th id=\"T_a143f_level0_col3\" class=\"col_heading level0 col3\" >MAE</th>\n",
       "      <th id=\"T_a143f_level0_col4\" class=\"col_heading level0 col4\" >R2 adjusted</th>\n",
       "      <th id=\"T_a143f_level0_col5\" class=\"col_heading level0 col5\" >WAPE_%</th>\n",
       "    </tr>\n",
       "    <tr>\n",
       "      <th class=\"index_name level0\" >model</th>\n",
       "      <th class=\"blank col0\" >&nbsp;</th>\n",
       "      <th class=\"blank col1\" >&nbsp;</th>\n",
       "      <th class=\"blank col2\" >&nbsp;</th>\n",
       "      <th class=\"blank col3\" >&nbsp;</th>\n",
       "      <th class=\"blank col4\" >&nbsp;</th>\n",
       "      <th class=\"blank col5\" >&nbsp;</th>\n",
       "    </tr>\n",
       "  </thead>\n",
       "  <tbody>\n",
       "    <tr>\n",
       "      <th id=\"T_a143f_level0_row0\" class=\"row_heading level0 row0\" >CatBoostBaselineTrain</th>\n",
       "      <td id=\"T_a143f_row0_col0\" class=\"data row0 col0\" >5894928942723778.000000</td>\n",
       "      <td id=\"T_a143f_row0_col1\" class=\"data row0 col1\" >76778440.611436</td>\n",
       "      <td id=\"T_a143f_row0_col2\" class=\"data row0 col2\" >1.799804</td>\n",
       "      <td id=\"T_a143f_row0_col3\" class=\"data row0 col3\" >24208523.565597</td>\n",
       "      <td id=\"T_a143f_row0_col4\" class=\"data row0 col4\" >0.715322</td>\n",
       "      <td id=\"T_a143f_row0_col5\" class=\"data row0 col5\" >48.974804</td>\n",
       "    </tr>\n",
       "    <tr>\n",
       "      <th id=\"T_a143f_level0_row1\" class=\"row_heading level0 row1\" >CatBoostBaselineTest</th>\n",
       "      <td id=\"T_a143f_row1_col0\" class=\"data row1 col0\" >5843035434928676.000000</td>\n",
       "      <td id=\"T_a143f_row1_col1\" class=\"data row1 col1\" >76439750.358885</td>\n",
       "      <td id=\"T_a143f_row1_col2\" class=\"data row1 col2\" >1.944247</td>\n",
       "      <td id=\"T_a143f_row1_col3\" class=\"data row1 col3\" >27809983.773220</td>\n",
       "      <td id=\"T_a143f_row1_col4\" class=\"data row1 col4\" >0.658584</td>\n",
       "      <td id=\"T_a143f_row1_col5\" class=\"data row1 col5\" >55.508199</td>\n",
       "    </tr>\n",
       "    <tr>\n",
       "      <th id=\"T_a143f_level0_row2\" class=\"row_heading level0 row2\" >LGBMBaselineTrain</th>\n",
       "      <td id=\"T_a143f_row2_col0\" class=\"data row2 col0\" >6377899338583602.000000</td>\n",
       "      <td id=\"T_a143f_row2_col1\" class=\"data row2 col1\" >79861751.411947</td>\n",
       "      <td id=\"T_a143f_row2_col2\" class=\"data row2 col2\" >1.760601</td>\n",
       "      <td id=\"T_a143f_row2_col3\" class=\"data row2 col3\" >22592390.786591</td>\n",
       "      <td id=\"T_a143f_row2_col4\" class=\"data row2 col4\" >0.691999</td>\n",
       "      <td id=\"T_a143f_row2_col5\" class=\"data row2 col5\" >45.705303</td>\n",
       "    </tr>\n",
       "    <tr>\n",
       "      <th id=\"T_a143f_level0_row3\" class=\"row_heading level0 row3\" >LGBMBaselineTest</th>\n",
       "      <td id=\"T_a143f_row3_col0\" class=\"data row3 col0\" >5542783863964557.000000</td>\n",
       "      <td id=\"T_a143f_row3_col1\" class=\"data row3 col1\" >74449874.841833</td>\n",
       "      <td id=\"T_a143f_row3_col2\" class=\"data row3 col2\" >1.973105</td>\n",
       "      <td id=\"T_a143f_row3_col3\" class=\"data row3 col3\" >27150351.399408</td>\n",
       "      <td id=\"T_a143f_row3_col4\" class=\"data row3 col4\" >0.676128</td>\n",
       "      <td id=\"T_a143f_row3_col5\" class=\"data row3 col5\" >54.191586</td>\n",
       "    </tr>\n",
       "  </tbody>\n",
       "</table>\n"
      ],
      "text/plain": [
       "<pandas.io.formats.style.Styler at 0x233cf98ce10>"
      ]
     },
     "execution_count": 35,
     "metadata": {},
     "output_type": "execute_result"
    }
   ],
   "source": [
    "metrics.set_index('model').style.highlight_min(\n",
    "    axis=0, color='lightblue').highlight_max(axis=0, color='lightpink')"
   ]
  },
  {
   "cell_type": "markdown",
   "id": "898b2219",
   "metadata": {},
   "source": [
    "- в целом, метрики на трейне и тесте у обоих моделей отличаются, но не очень сильно, то есть переобучение не очень большое\n",
    "- по значениям MAE, MSE, RMSE и RMSLE сложно что-то сказать, так как их значения напрямую зависят от таргет переменной, но по MAE лучше справилась модель lightgbm, а на остальных метриках - catboost\n",
    "- по значению R2 можно сказать, что lightgbm немного лучше обьясняет дисперсию таргет переменной на тестовых данных, чем catboost \n",
    "- но WAPE (ошибка на регрессии) довольно велика, так что в следующих разделах попытаемся улучшить модель"
   ]
  },
  {
   "cell_type": "code",
   "execution_count": 36,
   "id": "617f1216",
   "metadata": {},
   "outputs": [],
   "source": [
    "def check_overfitting(model: CatBoostRegressor | LGBMRegressor, X_train: np.ndarray,\n",
    "                      y_train: np.ndarray, X_test: np.ndarray,\n",
    "                      y_test: np.ndarray, metric: Callable,\n",
    "                      model_name: str) -> None:\n",
    "    '''\n",
    "    Проверяет переобучилась ли модель\n",
    "    \n",
    "    Parameters\n",
    "    ----------\n",
    "    model: CatBoostRegressor | LGBMRegressor\n",
    "        модель\n",
    "    X_train: np.ndarray\n",
    "        тренировочные данные\n",
    "    y_train: np.ndarray\n",
    "        тренировочные значения y\n",
    "    X_test: np.ndarray\n",
    "        тестовые данные\n",
    "    y_test: np.ndarray\n",
    "        тестовые значения y\n",
    "    metric: Callable\n",
    "        функция-метрика для оценки переобучения\n",
    "    model_name: str\n",
    "        название модели\n",
    "    \n",
    "    Returns\n",
    "    ----------\n",
    "    Данные о переобучении и метрики на train и test\n",
    "    '''\n",
    "    y_pred_train = model.predict(X_train)\n",
    "    y_pred_test = model.predict(X_test)\n",
    "\n",
    "    metric_train = metric(np.exp(y_train), np.exp(y_pred_train))\n",
    "    metric_test = metric(np.exp(y_test), np.exp(y_pred_test))\n",
    "\n",
    "    print(f'Рассчет переобучения {model_name}')\n",
    "    print(f'{metric.__name__} на train: {round(metric_train, 2)}')\n",
    "    print(f'{metric.__name__} на test: {round(metric_test, 2)}')\n",
    "    print(\n",
    "        f'delta = {round((abs(metric_train - metric_test) / metric_test*100), 1)}%'\n",
    "    )"
   ]
  },
  {
   "cell_type": "code",
   "execution_count": 37,
   "id": "f8ad1940",
   "metadata": {},
   "outputs": [
    {
     "name": "stdout",
     "output_type": "stream",
     "text": [
      "Рассчет переобучения CatBoostBaseline\n",
      "mean_absolute_error на train: 24208523.57\n",
      "mean_absolute_error на test: 27809983.77\n",
      "delta = 13.0%\n"
     ]
    }
   ],
   "source": [
    "# проверка на переобучение\n",
    "check_overfitting(cb_baseline, X_train, y_train, X_test, y_test,\n",
    "                  mean_absolute_error, 'CatBoostBaseline')"
   ]
  },
  {
   "cell_type": "code",
   "execution_count": 38,
   "id": "2958ec6c",
   "metadata": {},
   "outputs": [
    {
     "name": "stdout",
     "output_type": "stream",
     "text": [
      "Рассчет переобучения LGBMBaseline\n",
      "mean_absolute_error на train: 22592390.79\n",
      "mean_absolute_error на test: 27150351.4\n",
      "delta = 16.8%\n"
     ]
    }
   ],
   "source": [
    "# проверка на переобучение\n",
    "check_overfitting(lgb_baseline, X_train, y_train, X_test, y_test,\n",
    "                  mean_absolute_error, 'LGBMBaseline')"
   ]
  },
  {
   "cell_type": "markdown",
   "id": "0e79a406",
   "metadata": {},
   "source": [
    "- при использовании MAE в качестве метрики для проверки, catboost показывает переобучение в 13 процентов, а lightgbm в 16.8\n",
    "- оба результата довольно хорошие, но учитывая значения метрик и то, что они немного лучше у lightgbm, будем использовать его, а переобучение попытаемся уменьшить при подборе параметров"
   ]
  },
  {
   "cell_type": "markdown",
   "id": "90c075c4",
   "metadata": {},
   "source": [
    "- сохраним данные о метриках"
   ]
  },
  {
   "cell_type": "code",
   "execution_count": 43,
   "id": "b1f5dce6",
   "metadata": {},
   "outputs": [],
   "source": [
    "metrics.set_index('model').to_json(config_train['metrics_path'])"
   ]
  }
 ],
 "metadata": {
  "kernelspec": {
   "display_name": "Python 3 (ipykernel)",
   "language": "python",
   "name": "python3"
  },
  "language_info": {
   "codemirror_mode": {
    "name": "ipython",
    "version": 3
   },
   "file_extension": ".py",
   "mimetype": "text/x-python",
   "name": "python",
   "nbconvert_exporter": "python",
   "pygments_lexer": "ipython3",
   "version": "3.11.3"
  },
  "toc": {
   "base_numbering": 1,
   "nav_menu": {},
   "number_sections": true,
   "sideBar": true,
   "skip_h1_title": false,
   "title_cell": "Table of Contents",
   "title_sidebar": "Contents",
   "toc_cell": false,
   "toc_position": {
    "height": "523.2px",
    "left": "22px",
    "top": "110.525px",
    "width": "230.575px"
   },
   "toc_section_display": true,
   "toc_window_display": true
  },
  "varInspector": {
   "cols": {
    "lenName": 16,
    "lenType": 16,
    "lenVar": 40
   },
   "kernels_config": {
    "python": {
     "delete_cmd_postfix": "",
     "delete_cmd_prefix": "del ",
     "library": "var_list.py",
     "varRefreshCmd": "print(var_dic_list())"
    },
    "r": {
     "delete_cmd_postfix": ") ",
     "delete_cmd_prefix": "rm(",
     "library": "var_list.r",
     "varRefreshCmd": "cat(var_dic_list()) "
    }
   },
   "types_to_exclude": [
    "module",
    "function",
    "builtin_function_or_method",
    "instance",
    "_Feature"
   ],
   "window_display": false
  }
 },
 "nbformat": 4,
 "nbformat_minor": 5
}
