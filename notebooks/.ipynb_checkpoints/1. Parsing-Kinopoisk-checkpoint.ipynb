{
 "cells": [
  {
   "cell_type": "code",
   "execution_count": 1,
   "id": "74ba95e7",
   "metadata": {},
   "outputs": [],
   "source": [
    "from selenium import webdriver\n",
    "from selenium.webdriver.common.keys import Keys\n",
    "from selenium.webdriver.common.by import By\n",
    "from selenium.common.exceptions import NoSuchElementException\n",
    "import pandas as pd\n",
    "import time\n",
    "\n",
    "URL = 'https://www.kinopoisk.ru/'"
   ]
  },
  {
   "cell_type": "markdown",
   "id": "c1dc2fed",
   "metadata": {},
   "source": [
    "Проект был разделен на несколько частей, каждая из которых представляет собой отдельный Jupyter ноутбук:\n",
    "1. **Parsing-Kinopoisk – сбор и данных для дальнейшего анализа**\n",
    "2. EDA – исследовательский анализ данных, который включает в себя первичный анализ данных, обработку пропусков, преобразование признаков выявление закономерностей и взаимосвязей в данных, формулировка гипотез и визуализация наиболее важных признаков\n",
    "3. Baseline – обучение baseline модели и оценка ее метрик\n",
    "4. Tuning – подбор гиперпараметров модели для улучшения качества предсказаний и оценка полученных метрик\n",
    "5. Post-analysis – оценка важности признаков и анализ результатов предсказания"
   ]
  },
  {
   "cell_type": "code",
   "execution_count": 2,
   "id": "47774dea",
   "metadata": {},
   "outputs": [],
   "source": [
    "driver = webdriver.Chrome()\n",
    "driver.get(URL)"
   ]
  },
  {
   "cell_type": "code",
   "execution_count": 3,
   "id": "b4a9d461",
   "metadata": {},
   "outputs": [],
   "source": [
    "# развернуть окно\n",
    "driver.maximize_window()\n",
    "time.sleep(1)"
   ]
  },
  {
   "cell_type": "code",
   "execution_count": null,
   "id": "5d73a18b",
   "metadata": {},
   "outputs": [],
   "source": [
    "# закрыть рекламу\n",
    "close_ad = driver.find_element(By.CLASS_NAME, 'styles_closeIcon__Zvc5W')\n",
    "close_ad.click()"
   ]
  },
  {
   "cell_type": "code",
   "execution_count": 5,
   "id": "90cebb50",
   "metadata": {},
   "outputs": [],
   "source": [
    "# переход к спискам фильмов\n",
    "films_btn = driver.find_element(By.LINK_TEXT, 'Фильмы')\n",
    "films_btn.click()\n",
    "time.sleep(1)"
   ]
  },
  {
   "cell_type": "code",
   "execution_count": 6,
   "id": "1d97dcb2",
   "metadata": {},
   "outputs": [],
   "source": [
    "# переход к фильмам по странам\n",
    "countries = driver.find_element(By.LINK_TEXT, 'Страны')\n",
    "countries.click()\n",
    "time.sleep(1)"
   ]
  },
  {
   "cell_type": "code",
   "execution_count": 7,
   "id": "77d20391",
   "metadata": {},
   "outputs": [],
   "source": [
    "# выбор страны - США\n",
    "us = driver.find_element(By.LINK_TEXT, 'США')\n",
    "us.click()\n",
    "time.sleep(1)"
   ]
  },
  {
   "cell_type": "code",
   "execution_count": 8,
   "id": "41b9991f",
   "metadata": {},
   "outputs": [],
   "source": [
    "# выбор только фильмов\n",
    "films = driver.find_element(By.LINK_TEXT, 'Фильмы')\n",
    "films.click()\n",
    "time.sleep(1)"
   ]
  },
  {
   "cell_type": "code",
   "execution_count": 9,
   "id": "5c0e0f4e",
   "metadata": {},
   "outputs": [],
   "source": [
    "# сортировка фильмов по количетсву оценок\n",
    "order = driver.find_element(By.CLASS_NAME, 'styles_root__zUQ5a')\n",
    "order.click()\n",
    "driver.find_elements(By.CLASS_NAME, 'styles_title__RILeC')[1].click()\n",
    "time.sleep(1)"
   ]
  },
  {
   "cell_type": "code",
   "execution_count": 10,
   "id": "3eddb594",
   "metadata": {},
   "outputs": [],
   "source": [
    "# выбор всех фильмов\n",
    "all_films_btn = driver.find_elements(By.CLASS_NAME, 'styles_title__skJ4z')[2]\n",
    "all_films_btn.click()\n",
    "time.sleep(1)"
   ]
  },
  {
   "cell_type": "code",
   "execution_count": 11,
   "id": "9fde26fb",
   "metadata": {},
   "outputs": [],
   "source": [
    "def parse_film_info(info: list) -> dict:\n",
    "    '''\n",
    "    Получает список с разными данным по фильму\n",
    "    \n",
    "    Parameters\n",
    "    --------\n",
    "    info: list\n",
    "        вся информация по фильму\n",
    "    \n",
    "    Return\n",
    "    --------\n",
    "    dict\n",
    "        словарь с нужными нам данными\n",
    "    '''\n",
    "    # словарь для данных (изначально None)\n",
    "    film_info = {\n",
    "        'year': None,\n",
    "        'genre': None,\n",
    "        'director': None,\n",
    "        'age_rating': None,\n",
    "        'budget': None,\n",
    "        'box_office_usa': None,\n",
    "        'box_office_world': None,\n",
    "        'release_date': None,\n",
    "        'duration': None\n",
    "    }\n",
    "\n",
    "    for idx in range(len(info)):\n",
    "        if info[idx] == 'Год производства':\n",
    "            film_info['year'] = info[idx + 1]\n",
    "        elif info[idx] == 'Жанр':\n",
    "            film_info['genre'] = info[idx + 1]\n",
    "        elif info[idx] == 'Режиссер':\n",
    "            film_info['director'] = info[idx + 1]\n",
    "        elif info[idx] == 'Возраст':\n",
    "            film_info['age_rating'] = info[idx + 1]\n",
    "        elif info[idx] == 'Бюджет':\n",
    "            film_info['budget'] = info[idx + 1]\n",
    "        elif info[idx] == 'Сборы в США':\n",
    "            film_info['box_office_usa'] = info[idx + 1]\n",
    "        elif info[idx] == 'Сборы в мире':\n",
    "            film_info['box_office_world'] = info[idx + 1].split('=')[0]\n",
    "        elif info[idx] == 'Премьера в мире':\n",
    "            film_info['release_date'] = info[idx + 1].split(',')[0]\n",
    "        elif info[idx] == 'Время':\n",
    "            film_info['duration'] = info[idx + 1].split(',')[0]\n",
    "\n",
    "    return film_info"
   ]
  },
  {
   "cell_type": "code",
   "execution_count": 12,
   "id": "4dad206b",
   "metadata": {},
   "outputs": [],
   "source": [
    "def get_links_from_main_page(idx: int) -> list:\n",
    "    '''\n",
    "    Получает ссылки фильмов на основной странице\n",
    "    \n",
    "    Parameters\n",
    "    --------\n",
    "    idx: int\n",
    "        индекс фильма на странице\n",
    "    \n",
    "    Return\n",
    "    --------\n",
    "    pd.DataFrame\n",
    "        датафрейм с полученными данными\n",
    "    '''\n",
    "    link = films[idx].find_element(\n",
    "        By.CLASS_NAME,\n",
    "        'base-movie-main-info_link__YwtP1').get_attribute('href')\n",
    "\n",
    "    return pd.DataFrame([[link]], columns=df_cols_links)"
   ]
  },
  {
   "cell_type": "code",
   "execution_count": 13,
   "id": "aabfb33c",
   "metadata": {},
   "outputs": [],
   "source": [
    "def get_data_from_film_page(link: str) -> list:\n",
    "    '''\n",
    "    Получает данные по фильмам на странице фильма\n",
    "    \n",
    "    Parameters\n",
    "    --------\n",
    "    link: str\n",
    "        ссылка на страницу фильма\n",
    "    \n",
    "    Return\n",
    "    --------\n",
    "    pd.DataFrame\n",
    "        датафрейм с полученными данными\n",
    "    '''\n",
    "    driver.get(link)\n",
    "    \n",
    "    # если появилась капча, код засыпает на 30 секунд\n",
    "    try:\n",
    "        while True:\n",
    "            capcha = driver.find_element(By.CLASS_NAME, 'CheckboxCaptcha-Anchor')\n",
    "            time.sleep(30)\n",
    "        \n",
    "    except NoSuchElementException:\n",
    "        pass\n",
    "    \n",
    "    finally:\n",
    "        title = driver.find_element(By.CLASS_NAME, 'styles_title__65Zwx').text\n",
    "        \n",
    "        try:\n",
    "            rating = driver.find_element(By.CLASS_NAME,\n",
    "                                     'film-rating-value').text.split('\\n')[0]\n",
    "        except NoSuchElementException:\n",
    "            rating = None\n",
    "            \n",
    "        film_info = driver.find_element(\n",
    "            By.CSS_SELECTOR,\n",
    "            'div[data-test-id=\"encyclopedic-table\"]').text.split('\\n')\n",
    "        film_data = parse_film_info(film_info)\n",
    "        cast = driver.find_element(By.CLASS_NAME,\n",
    "                                   'film-crew-block').text.split('\\n')[1:-1]\n",
    "\n",
    "    return pd.DataFrame([[\n",
    "        title, rating, film_data['year'], film_data['genre'],\n",
    "        film_data['director'], film_data['age_rating'],\n",
    "        film_data['release_date'], film_data['duration'], cast,\n",
    "        film_data['budget'], film_data['box_office_usa'],\n",
    "        film_data['box_office_world']\n",
    "    ]],\n",
    "                        columns=df_cols_film)"
   ]
  },
  {
   "cell_type": "code",
   "execution_count": 22,
   "id": "525bc4b0",
   "metadata": {},
   "outputs": [],
   "source": [
    "df_cols_links = ['link']\n",
    "df_cols_film = [\n",
    "    'title', 'rating', 'production_year', 'genre', 'director', 'age_rating',\n",
    "    'release_date', 'duration', 'cast', 'budget', 'box_office_usa',\n",
    "    'box_office_world'\n",
    "]\n",
    "\n",
    "df_links = pd.DataFrame(columns=df_cols_links)\n",
    "df_film = pd.DataFrame(columns=df_cols_film)"
   ]
  },
  {
   "cell_type": "code",
   "execution_count": 24,
   "id": "14604913",
   "metadata": {},
   "outputs": [],
   "source": [
    "for _ in range(1000):\n",
    "    # списки фильмов\n",
    "    films = driver.find_elements(By.CLASS_NAME, 'styles_root__ti07r')\n",
    "\n",
    "    current_url = driver.current_url\n",
    "\n",
    "    # добавление ссылок на фильмы в датафрейм\n",
    "    for idx in range(len(films)):\n",
    "        df_links_current_page = get_links_from_main_page(idx)\n",
    "        df_links = pd.concat([df_links, df_links_current_page], axis=0)\n",
    "\n",
    "    # добавление фильмов со страницы фильма в датафрейм\n",
    "    for lnk in df_links.link.to_list()[-50:]:\n",
    "        df_current_flm = get_data_from_film_page(lnk)\n",
    "        df_film = pd.concat([df_film, df_current_flm], axis=0)\n",
    "\n",
    "    driver.get(current_url)\n",
    "    time.sleep(1)\n",
    "\n",
    "    # переход на следующую страницу\n",
    "    try:\n",
    "        # кнопка для перехода на следующую страницу\n",
    "        next_page_url = driver.find_element(\n",
    "            By.CLASS_NAME, 'styles_end__aEsmB').get_attribute('href')\n",
    "        driver.get(next_page_url)\n",
    "        time.sleep(1)\n",
    "    except NoSuchElementException:\n",
    "        break"
   ]
  },
  {
   "cell_type": "code",
   "execution_count": 26,
   "id": "2e23b608",
   "metadata": {},
   "outputs": [],
   "source": [
    "df_film.to_csv('data/kinopoisk_films.csv', index=False)"
   ]
  }
 ],
 "metadata": {
  "kernelspec": {
   "display_name": "Python 3 (ipykernel)",
   "language": "python",
   "name": "python3"
  },
  "language_info": {
   "codemirror_mode": {
    "name": "ipython",
    "version": 3
   },
   "file_extension": ".py",
   "mimetype": "text/x-python",
   "name": "python",
   "nbconvert_exporter": "python",
   "pygments_lexer": "ipython3",
   "version": "3.11.3"
  },
  "toc": {
   "base_numbering": 1,
   "nav_menu": {},
   "number_sections": true,
   "sideBar": true,
   "skip_h1_title": false,
   "title_cell": "Table of Contents",
   "title_sidebar": "Contents",
   "toc_cell": false,
   "toc_position": {},
   "toc_section_display": true,
   "toc_window_display": false
  },
  "varInspector": {
   "cols": {
    "lenName": 16,
    "lenType": 16,
    "lenVar": 40
   },
   "kernels_config": {
    "python": {
     "delete_cmd_postfix": "",
     "delete_cmd_prefix": "del ",
     "library": "var_list.py",
     "varRefreshCmd": "print(var_dic_list())"
    },
    "r": {
     "delete_cmd_postfix": ") ",
     "delete_cmd_prefix": "rm(",
     "library": "var_list.r",
     "varRefreshCmd": "cat(var_dic_list()) "
    }
   },
   "types_to_exclude": [
    "module",
    "function",
    "builtin_function_or_method",
    "instance",
    "_Feature"
   ],
   "window_display": false
  }
 },
 "nbformat": 4,
 "nbformat_minor": 5
}
