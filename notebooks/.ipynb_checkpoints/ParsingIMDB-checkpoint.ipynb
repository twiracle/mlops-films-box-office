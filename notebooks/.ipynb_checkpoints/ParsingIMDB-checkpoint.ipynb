{
 "cells": [
  {
   "cell_type": "code",
   "execution_count": 208,
   "id": "c42fa8e2",
   "metadata": {},
   "outputs": [],
   "source": [
    "from selenium import webdriver\n",
    "from selenium.webdriver.common.keys import Keys\n",
    "from selenium.webdriver.common.by import By\n",
    "from selenium.webdriver.support.ui import Select\n",
    "import pandas as pd\n",
    "import time\n",
    "\n",
    "URL = 'https://www.imdb.com/'"
   ]
  },
  {
   "cell_type": "code",
   "execution_count": 209,
   "id": "bcd3c5a1",
   "metadata": {},
   "outputs": [],
   "source": [
    "driver = webdriver.Chrome()\n",
    "driver.get(URL)"
   ]
  },
  {
   "cell_type": "code",
   "execution_count": 210,
   "id": "1a77f978",
   "metadata": {},
   "outputs": [],
   "source": [
    "# развернуть окно\n",
    "driver.maximize_window()\n",
    "time.sleep(1)"
   ]
  },
  {
   "cell_type": "code",
   "execution_count": 211,
   "id": "1936ed6e",
   "metadata": {},
   "outputs": [],
   "source": [
    "# выпадающее окно\n",
    "dropdown_menu = driver.find_element(By.CLASS_NAME,\n",
    "                                    'nav-search-form__categories')\n",
    "dropdown_menu.click()\n",
    "time.sleep(1)"
   ]
  },
  {
   "cell_type": "code",
   "execution_count": 212,
   "id": "10c20235",
   "metadata": {},
   "outputs": [],
   "source": [
    "# переход к расширенному поиску\n",
    "adv_search_btn = driver.find_element(By.LINK_TEXT, 'Advanced Search')\n",
    "adv_search_btn.click()\n",
    "time.sleep(3)"
   ]
  },
  {
   "cell_type": "code",
   "execution_count": 213,
   "id": "002f5a19",
   "metadata": {},
   "outputs": [],
   "source": [
    "# выбор всех фильмов\n",
    "title_type = driver.find_element(By.ID, 'titleTypeAccordion')\n",
    "title_type.click()\n",
    "time.sleep(3)\n",
    "type_film = title_type.find_element(By.CLASS_NAME, 'sc-bb21426f-0')\n",
    "type_film.click()\n",
    "time.sleep(1)"
   ]
  },
  {
   "cell_type": "code",
   "execution_count": 214,
   "id": "a091f4a6",
   "metadata": {
    "scrolled": true
   },
   "outputs": [],
   "source": [
    "# выбор фильмов с 2000 по 2024 год\n",
    "release_date = driver.find_element(By.ID, 'releaseDateAccordion')\n",
    "release_date.click()\n",
    "time.sleep(3)\n",
    "min_date = release_date.find_element(By.NAME, 'release-yearmonth-start-input')\n",
    "min_date.click()\n",
    "min_date.send_keys('2000')\n",
    "time.sleep(1)\n",
    "max_date = release_date.find_element(By.NAME, 'release-yearmonth-end-input')\n",
    "max_date.click()\n",
    "max_date.send_keys('2024')\n",
    "time.sleep(1)"
   ]
  },
  {
   "cell_type": "code",
   "execution_count": 215,
   "id": "12b8bd27",
   "metadata": {},
   "outputs": [],
   "source": [
    "# выбор фильмов с рейтингом от 5\n",
    "rating = driver.find_element(By.ID, 'ratingsAccordion')\n",
    "rating.click()\n",
    "time.sleep(3)\n",
    "min_rating = rating.find_element(By.NAME, 'imdb-ratings-max-input')\n",
    "min_rating.click()\n",
    "min_rating.send_keys('5')\n",
    "time.sleep(1)"
   ]
  },
  {
   "cell_type": "code",
   "execution_count": 217,
   "id": "00d4edfe",
   "metadata": {},
   "outputs": [],
   "source": [
    "# выбор страны фильма - США\n",
    "country = driver.find_element(By.ID, 'countryAccordion')\n",
    "country.click()\n",
    "time.sleep(3)\n",
    "input_country = country.find_element(By.CSS_SELECTOR, 'input')\n",
    "input_country.click()\n",
    "input_country.send_keys('United States')\n",
    "time.sleep(1)\n",
    "us = country.find_element(By.CLASS_NAME, 'sc-7703895e-0')\n",
    "us.click()\n",
    "time.sleep(1)"
   ]
  },
  {
   "cell_type": "code",
   "execution_count": 218,
   "id": "1b44c6d3",
   "metadata": {},
   "outputs": [],
   "source": [
    "# применение фильтров\n",
    "submit = driver.find_element(By.XPATH, '(//button[@aria-label=\"See results\"])')\n",
    "submit.click()\n",
    "time.sleep(3)"
   ]
  },
  {
   "cell_type": "code",
   "execution_count": 219,
   "id": "c612fd5f",
   "metadata": {},
   "outputs": [
    {
     "name": "stdout",
     "output_type": "stream",
     "text": [
      "100\n",
      "150\n",
      "200\n"
     ]
    }
   ],
   "source": [
    "# отображение всех фильмов на странице\n",
    "# while True:\n",
    "for i in range(3):\n",
    "    try:\n",
    "        driver.execute_script(\n",
    "            \"window.scrollTo(0, document.body.scrollHeight-1000);\")\n",
    "        time.sleep(1)\n",
    "        see_more = driver.find_element(By.CLASS_NAME, 'ipc-see-more__text')\n",
    "        see_more.click()\n",
    "        time.sleep(3)\n",
    "        print(\n",
    "            len(\n",
    "                driver.find_elements(By.CLASS_NAME,\n",
    "                                     \"ipc-metadata-list-summary-item__c\")))\n",
    "    except:\n",
    "        break"
   ]
  },
  {
   "cell_type": "code",
   "execution_count": 220,
   "id": "807cc4a4",
   "metadata": {},
   "outputs": [],
   "source": [
    "links_df_cols = ['link']"
   ]
  },
  {
   "cell_type": "code",
   "execution_count": 221,
   "id": "3d5de9cb",
   "metadata": {},
   "outputs": [],
   "source": [
    "links_df = pd.DataFrame(columns=links_df_cols)"
   ]
  },
  {
   "cell_type": "code",
   "execution_count": 240,
   "id": "cb234ce8",
   "metadata": {},
   "outputs": [],
   "source": [
    "links = driver.find_elements(By.CLASS_NAME, \"ipc-title-link-wrapper\")"
   ]
  },
  {
   "cell_type": "code",
   "execution_count": 244,
   "id": "b21101ea",
   "metadata": {},
   "outputs": [],
   "source": [
    "for i in range(len(links)):\n",
    "    links_df = pd.concat([\n",
    "        links_df,\n",
    "        pd.DataFrame([links[i].get_attribute('href')], columns=links_df_cols)\n",
    "    ])"
   ]
  },
  {
   "cell_type": "code",
   "execution_count": 245,
   "id": "8ed0c786",
   "metadata": {},
   "outputs": [
    {
     "data": {
      "text/html": [
       "<div>\n",
       "<style scoped>\n",
       "    .dataframe tbody tr th:only-of-type {\n",
       "        vertical-align: middle;\n",
       "    }\n",
       "\n",
       "    .dataframe tbody tr th {\n",
       "        vertical-align: top;\n",
       "    }\n",
       "\n",
       "    .dataframe thead th {\n",
       "        text-align: right;\n",
       "    }\n",
       "</style>\n",
       "<table border=\"1\" class=\"dataframe\">\n",
       "  <thead>\n",
       "    <tr style=\"text-align: right;\">\n",
       "      <th></th>\n",
       "      <th>link</th>\n",
       "    </tr>\n",
       "  </thead>\n",
       "  <tbody>\n",
       "    <tr>\n",
       "      <th>0</th>\n",
       "      <td>https://www.imdb.com/title/tt6263850/?ref_=sr_t_1</td>\n",
       "    </tr>\n",
       "    <tr>\n",
       "      <th>0</th>\n",
       "      <td>https://www.imdb.com/title/tt18412256/?ref_=sr...</td>\n",
       "    </tr>\n",
       "    <tr>\n",
       "      <th>0</th>\n",
       "      <td>https://www.imdb.com/title/tt10655524/?ref_=sr...</td>\n",
       "    </tr>\n",
       "    <tr>\n",
       "      <th>0</th>\n",
       "      <td>https://www.imdb.com/title/tt12584954/?ref_=sr...</td>\n",
       "    </tr>\n",
       "    <tr>\n",
       "      <th>0</th>\n",
       "      <td>https://www.imdb.com/title/tt24169886/?ref_=sr...</td>\n",
       "    </tr>\n",
       "  </tbody>\n",
       "</table>\n",
       "</div>"
      ],
      "text/plain": [
       "                                                link\n",
       "0  https://www.imdb.com/title/tt6263850/?ref_=sr_t_1\n",
       "0  https://www.imdb.com/title/tt18412256/?ref_=sr...\n",
       "0  https://www.imdb.com/title/tt10655524/?ref_=sr...\n",
       "0  https://www.imdb.com/title/tt12584954/?ref_=sr...\n",
       "0  https://www.imdb.com/title/tt24169886/?ref_=sr..."
      ]
     },
     "execution_count": 245,
     "metadata": {},
     "output_type": "execute_result"
    }
   ],
   "source": [
    "links_df.head()"
   ]
  },
  {
   "cell_type": "code",
   "execution_count": 246,
   "id": "3704843a",
   "metadata": {},
   "outputs": [],
   "source": [
    "df_cols = [\n",
    "    'title', 'year', 'duration', 'score', 'vote_count', 'description',\n",
    "    'director', 'cast', 'genre', 'budget', 'box_office'\n",
    "]"
   ]
  },
  {
   "cell_type": "code",
   "execution_count": 247,
   "id": "6ee3f17d",
   "metadata": {},
   "outputs": [],
   "source": [
    "df = pd.DataFrame(columns=df_cols)"
   ]
  },
  {
   "cell_type": "code",
   "execution_count": 249,
   "id": "65a32915",
   "metadata": {},
   "outputs": [
    {
     "name": "stdout",
     "output_type": "stream",
     "text": [
      "https://www.imdb.com/title/tt6263850/?ref_=sr_t_1\n",
      "https://www.imdb.com/title/tt18412256/?ref_=sr_t_2\n",
      "https://www.imdb.com/title/tt10655524/?ref_=sr_t_3\n",
      "https://www.imdb.com/title/tt12584954/?ref_=sr_t_4\n",
      "https://www.imdb.com/title/tt24169886/?ref_=sr_t_5\n"
     ]
    }
   ],
   "source": [
    "for link in links_df.head().link:\n",
    "    driver.get(link)\n",
    "    title = driver.find_element(By.CLASS_NAME, 'hero__primary-text').text\n",
    "    main_data = driver.find_elements(By.CLASS_NAME, 'ipc-inline-list')[1].text.split('\\n')\n",
    "    year = main_data[0]\n",
    "    try:\n",
    "        duration = main_data[2]\n",
    "    catch:\n",
    "        duration = main_data[1]\n",
    "    score = driver.find_elements(By.CLASS_NAME, 'sc-eb51e184-1')[1].text\n",
    "    vote_count = driver.find_elements(By.CLASS_NAME, 'sc-eb51e184-3')[1].text\n",
    "    description = driver.find_element(By.CLASS_NAME, 'sc-2d37a7c7-0').text\n",
    "    cast = driver.find_elements(By.CLASS_NAME, 'ipc-inline-list__item')[14:21]\n",
    "    director = driver.find_elements(By.CLASS_NAME, 'ipc-inline-list__item')[14].text\n",
    "    cast = [actor.text for actor in  driver.find_elements(By.CLASS_NAME, 'ipc-inline-list__item')[18:21]]\n",
    "    "
   ]
  },
  {
   "cell_type": "code",
   "execution_count": 251,
   "id": "f7915b2f",
   "metadata": {},
   "outputs": [],
   "source": [
    "driver.get('https://www.imdb.com/title/tt6263850/?ref_=sr_t_1')\n",
    "title = driver.find_element(By.CLASS_NAME, 'hero__primary-text')"
   ]
  },
  {
   "cell_type": "code",
   "execution_count": 299,
   "id": "0aa5aec8",
   "metadata": {},
   "outputs": [
    {
     "data": {
      "text/plain": [
       "'Emma Corrin'"
      ]
     },
     "execution_count": 299,
     "metadata": {},
     "output_type": "execute_result"
    }
   ],
   "source": [
    "driver.find_elements(By.CLASS_NAME, 'ipc-inline-list__item')[20].text"
   ]
  },
  {
   "cell_type": "code",
   "execution_count": 301,
   "id": "0a731406",
   "metadata": {},
   "outputs": [
    {
     "data": {
      "text/plain": [
       "['Ryan Reynolds', 'Hugh Jackman', 'Emma Corrin']"
      ]
     },
     "execution_count": 301,
     "metadata": {},
     "output_type": "execute_result"
    }
   ],
   "source": [
    "[actor.text for actor in  driver.find_elements(By.CLASS_NAME, 'ipc-inline-list__item')[18:21]]"
   ]
  },
  {
   "cell_type": "code",
   "execution_count": null,
   "id": "4fec54ff",
   "metadata": {},
   "outputs": [],
   "source": []
  }
 ],
 "metadata": {
  "kernelspec": {
   "display_name": "Python 3 (ipykernel)",
   "language": "python",
   "name": "python3"
  },
  "language_info": {
   "codemirror_mode": {
    "name": "ipython",
    "version": 3
   },
   "file_extension": ".py",
   "mimetype": "text/x-python",
   "name": "python",
   "nbconvert_exporter": "python",
   "pygments_lexer": "ipython3",
   "version": "3.11.3"
  },
  "toc": {
   "base_numbering": 1,
   "nav_menu": {},
   "number_sections": true,
   "sideBar": true,
   "skip_h1_title": false,
   "title_cell": "Table of Contents",
   "title_sidebar": "Contents",
   "toc_cell": false,
   "toc_position": {},
   "toc_section_display": true,
   "toc_window_display": false
  },
  "varInspector": {
   "cols": {
    "lenName": 16,
    "lenType": 16,
    "lenVar": 40
   },
   "kernels_config": {
    "python": {
     "delete_cmd_postfix": "",
     "delete_cmd_prefix": "del ",
     "library": "var_list.py",
     "varRefreshCmd": "print(var_dic_list())"
    },
    "r": {
     "delete_cmd_postfix": ") ",
     "delete_cmd_prefix": "rm(",
     "library": "var_list.r",
     "varRefreshCmd": "cat(var_dic_list()) "
    }
   },
   "types_to_exclude": [
    "module",
    "function",
    "builtin_function_or_method",
    "instance",
    "_Feature"
   ],
   "window_display": false
  }
 },
 "nbformat": 4,
 "nbformat_minor": 5
}
